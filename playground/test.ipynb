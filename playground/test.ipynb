{
 "cells": [
  {
   "cell_type": "code",
   "execution_count": 1,
   "metadata": {},
   "outputs": [
    {
     "name": "stdout",
     "output_type": "stream",
     "text": [
      "Django is installed, version: 5.2\n",
      "Playground is ready with settings module: core.config.settings\n"
     ]
    }
   ],
   "source": [
    "import playground"
   ]
  },
  {
   "cell_type": "code",
   "execution_count": 2,
   "metadata": {},
   "outputs": [],
   "source": [
    "from core.models import Question"
   ]
  },
  {
   "cell_type": "code",
   "execution_count": 3,
   "metadata": {},
   "outputs": [
    {
     "name": "stdout",
     "output_type": "stream",
     "text": [
      "<QuerySet [<Question: How does FMS deal with multiple drivers using the same vehicle?>, <Question: Can FMS manage vehicle documentation like registration and insurance?>, <Question: What is the difference between active and passive GPS tracking?>, <Question: How can FMS contribute to sustainability goals beyond fuel savings?>, <Question: What are the potential legal implications of using FMS data?>, <Question: Can FMS help manage toll costs?>, <Question: How user-friendly are typical FMS interfaces?>, <Question: What are the hardware options for FMS tracking devices?>, <Question: Can FMS provide proof of service or delivery confirmation?>, <Question: How does FMS handle personal use of company vehicles?>, <Question: What is the process for reporting and managing accidents within an FMS?>, <Question: Can FMS assist with calculating Cost Per Mile?>, <Question: How is AI (Artificial Intelligence) being incorporated into FMS?>, <Question: What are the limitations of current FMS technology?>, <Question: How does FMS support temperature monitoring for refrigerated transport?>, <Question: What are the key performance indicators (KPIs) commonly tracked using FMS?>, <Question: Can FMS help manage tire pressure and maintenance?>, <Question: How are software updates handled for FMS platforms?>, <Question: What happens if a GPS tracking device loses signal?>, <Question: Can an FMS help optimize asset utilization?>, '...(remaining elements truncated)...']>\n"
     ]
    }
   ],
   "source": [
    "qs = Question.objects.all()\n",
    "print(qs)"
   ]
  }
 ],
 "metadata": {
  "kernelspec": {
   "display_name": ".venv",
   "language": "python",
   "name": "python3"
  },
  "language_info": {
   "codemirror_mode": {
    "name": "ipython",
    "version": 3
   },
   "file_extension": ".py",
   "mimetype": "text/x-python",
   "name": "python",
   "nbconvert_exporter": "python",
   "pygments_lexer": "ipython3",
   "version": "3.12.6"
  }
 },
 "nbformat": 4,
 "nbformat_minor": 2
}
